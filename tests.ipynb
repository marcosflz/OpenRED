{
 "cells": [
  {
   "cell_type": "code",
   "execution_count": 2,
   "metadata": {},
   "outputs": [],
   "source": [
    "from imports import *"
   ]
  },
  {
   "cell_type": "code",
   "execution_count": 3,
   "metadata": {},
   "outputs": [],
   "source": [
    "class polynomialCp:\n",
    "    def __init__(self, component):\n",
    "        \n",
    "        conn = sqlite3.connect('database.db')\n",
    "        cursor = conn.cursor()\n",
    "\n",
    "        cursor.execute('''\n",
    "            SELECT  a1_cold, a2_cold, a3_cold, a4_cold, a5_cold,\n",
    "                    a1_hot, a2_hot, a3_hot, a4_hot, a5_hot,\n",
    "                    minColdTemp, maxColdTemp, minHotTemp, maxHotTemp,\n",
    "                    MolWeight, Hf0\n",
    "            FROM termoquimica\n",
    "            WHERE Component = ?\n",
    "        ''', (component,))\n",
    "\n",
    "        data = cursor.fetchone()\n",
    "        conn.close()\n",
    "\n",
    "        coefs = [(data[i],  data[i+5]) for i in range(5)]\n",
    "        temps = [(data[i],  data[i+2]) for i in range(10,12)]\n",
    "        props = data[14:]\n",
    "\n",
    "        self.a1_cold, self.a1_hot =  coefs[0]\n",
    "        self.a2_cold, self.a2_hot =  coefs[1]\n",
    "        self.a3_cold, self.a3_hot =  coefs[2]\n",
    "        self.a4_cold, self.a4_hot =  coefs[3]\n",
    "        self.a5_cold, self.a5_hot =  coefs[4]\n",
    "\n",
    "        self.minColdTemp, self.maxColdTemp = temps[0]\n",
    "        self.minHotTemp, self.maxHotTemp = temps[1]\n",
    "\n",
    "        self.MolWeight, self.Hf0 = props\n",
    "\n",
    "    def cp(self,T):\n",
    "        if self.minColdTemp <= T < self.maxColdTemp:\n",
    "            value = self.R*(\n",
    "                self.a1_cold +\n",
    "                self.a2_cold * T +\n",
    "                self.a3_cold * T**2 +\n",
    "                self.a4_cold * T**3 +\n",
    "                self.a5_cold * T**4\n",
    "            )\n",
    "        elif self.minHotTemp <= T < self.maxHotTemp:\n",
    "            value = self.R*(\n",
    "                self.a1_hot +\n",
    "                self.a2_hot * T +\n",
    "                self.a3_hot * T**2 +\n",
    "                self.a4_hot * T**3 +\n",
    "                self.a5_hot * T**4\n",
    "            )\n",
    "        else:\n",
    "            value = 0\n",
    "        return value\n",
    "        \n"
   ]
  },
  {
   "cell_type": "code",
   "execution_count": 10,
   "metadata": {},
   "outputs": [
    {
     "data": {
      "text/plain": [
       "(2833.177846183625,\n",
       " 5283.948034423712,\n",
       " 0.00841564,\n",
       " 5283.948034423712,\n",
       " 4295.970576006617,\n",
       " 987.9774584170948,\n",
       " 1.2299777060706696)"
      ]
     },
     "execution_count": 10,
     "metadata": {},
     "output_type": "execute_result"
    }
   ],
   "source": [
    "reac = [(5,'H2'),(1,'O2')]\n",
    "prod = [(2,'H2O'), (3,'H2')]\n",
    "\n",
    "# Extraer los números\n",
    "\n",
    "\n",
    "def integration(f,a,b,h):\n",
    "    return h * ( (f(a) + f(b))/2 + sum([f(a + k*h) for k in range(1, int((b - a)/h))]))\n",
    "\n",
    "def adiabaticTemp_calc(reac, prod, t0, tGuess, hStep):\n",
    "\n",
    "    reac_moles = [item[0] for item in reac]\n",
    "    prod_moles = [item[0] for item in prod]\n",
    "\n",
    "    reac_comps = [polynomialCp(item[1]) for item in reac]\n",
    "    prod_comps = [polynomialCp(item[1]) for item in prod]\n",
    "\n",
    "    hf0_reac = sum([n * r.Hf0 for n,r in zip(reac_moles,reac_comps)])\n",
    "    hf0_prod = sum([n * p.Hf0 for n,p in zip(prod_moles,prod_comps)])\n",
    "    \n",
    "    def heat_balance(t):\n",
    "\n",
    "        hCp_reac = sum([n * integration(r.cp, 298, t0, hStep) for n,r in zip(reac_moles,reac_comps)])\n",
    "        hCp_prod = sum([n * integration(p.cp, 298, t,  hStep) for n,p in zip(prod_moles,prod_comps)])\n",
    "\n",
    "        Q_Disp = hf0_reac + hCp_reac\n",
    "        Q_Req  = hf0_prod + hCp_prod\n",
    "\n",
    "        delta = (Q_Disp - Q_Req)\n",
    "        return delta\n",
    "    \n",
    "\n",
    "    def newton_raphson(f, x0, tol=hStep, max_iter=10000, h=hStep):\n",
    "        \"\"\"\n",
    "        Método de Newton-Raphson para encontrar las raíces de una función.\n",
    "\n",
    "        Args:\n",
    "        f: función objetivo.\n",
    "        x0: valor inicial para la raíz.\n",
    "        tol: tolerancia para la convergencia.\n",
    "        max_iter: número máximo de iteraciones.\n",
    "        h: paso pequeño para la derivada numérica.\n",
    "\n",
    "        Returns:\n",
    "        La raíz aproximada de la función.\n",
    "        \"\"\"\n",
    "        def fp(f, x, h):\n",
    "            return (f(x + h) - f(x - h)) / (2 * h)\n",
    "\n",
    "        x = x0\n",
    "        for i in range(max_iter):\n",
    "            fx = f(x)\n",
    "            dfx = fp(f, x, h)\n",
    "\n",
    "            if dfx == 0:\n",
    "                raise ValueError(\"Derivada nula. El método de Newton-Raphson no puede continuar.\")\n",
    "\n",
    "            x_new = x - fx / dfx\n",
    "\n",
    "            if abs(x_new - x) < tol:\n",
    "                return x_new\n",
    "\n",
    "            x = x_new\n",
    "\n",
    "        raise ValueError(\"El método de Newton-Raphson no convergió en el número máximo de iteraciones.\")\n",
    "\n",
    "    prodMol         = sum([n for n in prod_moles])\n",
    "    tSol            = newton_raphson(heat_balance, tGuess)\n",
    "    molWeight_prod  = (sum([n * r.MolWeight for n,r in zip(prod_moles,prod_comps)]) / prodMol)*1e-3\n",
    "    cp_Mass         =  (sum([n * r.cp(tSol) for n,r in zip(prod_moles,prod_comps)]) / prodMol) / molWeight_prod\n",
    "    R_prod          = 8.31446261815324/molWeight_prod\n",
    "    cv_Mass         = cp_Mass - R_prod\n",
    "    gamma           = cp_Mass/(cp_Mass - R_prod)\n",
    "\n",
    "    return tSol, cp_Mass, molWeight_prod, cp_Mass, cv_Mass, R_prod, gamma\n",
    "\n",
    "adiabaticTemp_calc(reac, prod, 300, 1000, 1)"
   ]
  },
  {
   "cell_type": "code",
   "execution_count": null,
   "metadata": {},
   "outputs": [],
   "source": [
    "class propellantCombustion:\n",
    "    def __init__(self,      )"
   ]
  },
  {
   "cell_type": "code",
   "execution_count": 4,
   "metadata": {},
   "outputs": [
    {
     "ename": "KeyError",
     "evalue": "0",
     "output_type": "error",
     "traceback": [
      "\u001b[1;31m---------------------------------------------------------------------------\u001b[0m",
      "\u001b[1;31mKeyError\u001b[0m                                  Traceback (most recent call last)",
      "Cell \u001b[1;32mIn[4], line 2\u001b[0m\n\u001b[0;32m      1\u001b[0m di \u001b[38;5;241m=\u001b[39m {\u001b[38;5;124m\"\u001b[39m\u001b[38;5;124ma\u001b[39m\u001b[38;5;124m\"\u001b[39m:\u001b[38;5;241m1\u001b[39m, \u001b[38;5;124m\"\u001b[39m\u001b[38;5;124mb\u001b[39m\u001b[38;5;124m\"\u001b[39m:\u001b[38;5;241m2\u001b[39m}\n\u001b[1;32m----> 2\u001b[0m \u001b[43mdi\u001b[49m\u001b[43m[\u001b[49m\u001b[38;5;241;43m0\u001b[39;49m\u001b[43m]\u001b[49m\n",
      "\u001b[1;31mKeyError\u001b[0m: 0"
     ]
    }
   ],
   "source": [
    "di = {\"a\":1, \"b\":2}\n",
    "di[0]"
   ]
  },
  {
   "cell_type": "code",
   "execution_count": null,
   "metadata": {},
   "outputs": [],
   "source": []
  }
 ],
 "metadata": {
  "kernelspec": {
   "display_name": "Python 3",
   "language": "python",
   "name": "python3"
  },
  "language_info": {
   "codemirror_mode": {
    "name": "ipython",
    "version": 3
   },
   "file_extension": ".py",
   "mimetype": "text/x-python",
   "name": "python",
   "nbconvert_exporter": "python",
   "pygments_lexer": "ipython3",
   "version": "3.12.4"
  }
 },
 "nbformat": 4,
 "nbformat_minor": 2
}
